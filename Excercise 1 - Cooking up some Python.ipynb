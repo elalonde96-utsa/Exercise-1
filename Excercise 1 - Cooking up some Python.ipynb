{
 "cells": [
  {
   "cell_type": "markdown",
   "metadata": {},
   "source": [
    "# Problem 1 - Defining some variables"
   ]
  },
  {
   "cell_type": "code",
   "execution_count": 1,
   "metadata": {},
   "outputs": [],
   "source": [
    "ice_cream_rating = 10 \n",
    "sleeping_rating = 10"
   ]
  },
  {
   "cell_type": "markdown",
   "metadata": {},
   "source": [
    "# Problem 2 - Reading in variable values"
   ]
  },
  {
   "cell_type": "code",
   "execution_count": 2,
   "metadata": {},
   "outputs": [],
   "source": [
    "first_name = \"Elijah\"\n",
    "last_name = \"LaLonde\"\n",
    "my_name = first_name + \" \" + last_name"
   ]
  },
  {
   "cell_type": "markdown",
   "metadata": {},
   "source": [
    "# Problem 3 - A bit of math"
   ]
  },
  {
   "cell_type": "code",
   "execution_count": 3,
   "metadata": {},
   "outputs": [],
   "source": [
    "happiness_rating = (ice_cream_rating + sleeping_rating)/2"
   ]
  },
  {
   "cell_type": "markdown",
   "metadata": {},
   "source": [
    "# Problem 4 - Checking data types# "
   ]
  },
  {
   "cell_type": "code",
   "execution_count": 4,
   "metadata": {},
   "outputs": [
    {
     "name": "stdout",
     "output_type": "stream",
     "text": [
      "ice_cream_rating is a  <class 'int'>\n",
      "sleeping_rating is a  <class 'int'>\n",
      "happiness_rating is a  <class 'float'>\n"
     ]
    }
   ],
   "source": [
    "print(\"ice_cream_rating is a \", type(ice_cream_rating))\n",
    "print(\"sleeping_rating is a \", type(sleeping_rating))\n",
    "print(\"happiness_rating is a \", type(happiness_rating))"
   ]
  },
  {
   "cell_type": "markdown",
   "metadata": {},
   "source": [
    "All the data types make sense to me and are what I expected.  Ice cream rating and sleep rating are numbers that do not have any decimals so they should default to an integer.  The happiness rating takes the two integers and finds the average of the two which means that the result should be a float as we are preforming a mathematical operation on the two integers other than addition of subtraction. "
   ]
  },
  {
   "cell_type": "markdown",
   "metadata": {},
   "source": [
    "# Problem 5 - Displaying text on the screen# "
   ]
  },
  {
   "cell_type": "code",
   "execution_count": 5,
   "metadata": {},
   "outputs": [
    {
     "name": "stdout",
     "output_type": "stream",
     "text": [
      "My name is Elijah and I give eating ince cream a score of 10 out of 10\n",
      "I am Elijah LaLonde and my sleeing enjoyment is a 10 / 10!\n",
      "Based on the factors above, my happiness rating is a 10.0 out of 10, or 100.0 %!\n"
     ]
    }
   ],
   "source": [
    "print(\"My name is\", first_name, \"and I give eating ince cream a score of\", ice_cream_rating, \"out of 10\")\n",
    "print(\"I am\", my_name, \"and my sleeing enjoyment is a\", sleeping_rating, \"/ 10!\")\n",
    "print(\"Based on the factors above, my happiness rating is a\", happiness_rating, \"out of 10, or\", 100*happiness_rating/10, \"%!\")"
   ]
  },
  {
   "cell_type": "code",
   "execution_count": null,
   "metadata": {},
   "outputs": [],
   "source": []
  }
 ],
 "metadata": {
  "kernelspec": {
   "display_name": "Python 3",
   "language": "python",
   "name": "python3"
  },
  "language_info": {
   "codemirror_mode": {
    "name": "ipython",
    "version": 3
   },
   "file_extension": ".py",
   "mimetype": "text/x-python",
   "name": "python",
   "nbconvert_exporter": "python",
   "pygments_lexer": "ipython3",
   "version": "3.7.3"
  }
 },
 "nbformat": 4,
 "nbformat_minor": 2
}
